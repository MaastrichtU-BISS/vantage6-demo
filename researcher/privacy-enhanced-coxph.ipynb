{
 "cells": [
  {
   "cell_type": "markdown",
   "id": "1c0c782e-1cac-449b-9d0d-c7b348f5dee0",
   "metadata": {},
   "source": [
    "# Federated Coxph - with Privacy-Enhancing Techniques (PETs)\n",
    "This notebook explains how to perform a federated Coxph model in Vantage6. This version computes the cumulative baseline hazard, and also provides options to include PETs. The first step is to install the required libraries (when necessary)"
   ]
  },
  {
   "cell_type": "code",
   "id": "17427293-f450-4750-a08c-df43b7c204ab",
   "metadata": {},
   "source": [
    "# ! pip install -r requirements.txt"
   ],
   "outputs": [],
   "execution_count": null
  },
  {
   "cell_type": "markdown",
   "id": "58fc18a5-2b31-4afd-a2e1-c2fe10c71bd1",
   "metadata": {},
   "source": [
    "## Credentials and login\n",
    "Provide the correct credentials below, to log into a Federated Learning message broker (server). The following variables need to be configured:\n",
    "- `server_url`: the url where the service is running (without port or subfolder specification)\n",
    "- `server_port`: the port number where the server can be reached\n",
    "- `server_api`: the subfolder URL specification needed, default is '/api'\n",
    "- `username`: username of the researcher on the message broker server\n",
    "- `password`: password of the researcher on the message broker server\n",
    "- `organization_key`: if encryption is enabled, the organization key needs to be provided here"
   ]
  },
  {
   "cell_type": "code",
   "id": "3f50481a-859e-48d5-8ea0-a7a993ebb247",
   "metadata": {},
   "source": [
    "from vantage6.client import Client\n",
    "import json, time\n",
    "\n",
    "# Load your configuration settings from a file or environment\n",
    "config = {\n",
    "    'server_url': 'http://host.docker.internal',\n",
    "    'server_port': 5000,\n",
    "    'server_api': '/api',\n",
    "    'username': 'alpha-user',\n",
    "    'password': 'alpha-password',\n",
    "    'organization_key': None\n",
    "}\n",
    "\n",
    "client = Client(config['server_url'], config['server_port'], config['server_api'], log_level='info')\n",
    "client.authenticate(username=config['username'], password=config['password'])\n",
    "client.setup_encryption(config['organization_key'])\n",
    "client.log_level = 'warn'"
   ],
   "outputs": [],
   "execution_count": null
  },
  {
   "metadata": {},
   "cell_type": "markdown",
   "source": [
    "## Define the task to execute\n",
    "Now we are logged into the message broker, we can post a request to execute a specific algorithm. In our case to calculate a Kaplan-Meier curve.\n",
    "\n",
    "To make this happen, we need to specify some information regarding the algorithm to execute. These are algorithm-specific variables:\n",
    "- expl_vars: The column name which represents the input features for the model\n",
    "- outcome_col: The column name which represents the label to be predicted\n",
    "- time_col: The column name which represents the time to event (e.g., survival time)\n",
    "- organization_ids: The organizations involved in running the experiment. These are the numeric identifiers of the organizations\n",
    "- baseline_hf: Set to True to include cumulative baseline hazard function in the results\n",
    "- binning: Set to True to enable binning of event times for added privacy\n",
    "- bin_type: The type of binning to be used. Options are 'Fixed' or 'Quantile'\n",
    "- differential_privacy: Set to True to enable differential privacy\n",
    "- privacy_target: Set the target of differential privacy. Options are \"predictors\" or \"aggregates\"\n",
    "- sensitivity: Set the sensitivity of the Cox model coefficients for differential privacy\n",
    "- epsilon: Set the epsilon value for differential privacy. The lower the value, the more noise is added"
   ],
   "id": "6dc76bbca4f2e0c"
  },
  {
   "cell_type": "code",
   "id": "617f432f-a031-4609-9c7b-8190eaa749f3",
   "metadata": {},
   "source": [
    "# Determine the first collaboration identifier\n",
    "collaboration_id = client.collaboration.list()['data'][0]['id']\n",
    "\n",
    "# Determine the organizations involved in this collaboration\n",
    "organization_ids = [ ]\n",
    "for org in client.organization.list(collaboration=collaboration_id)[\"data\"]:\n",
    "  organization_ids.append(org['id'])\n",
    "\n",
    "# Define algorithm input\n",
    "input_={\n",
    "        \"method\": \"central\",\n",
    "        \"kwargs\": {\n",
    "            \"time_col\": \"Survival.time\", # string value  \n",
    "            \"outcome_col\": \"deadstatus.event\", # string value\n",
    "            \"expl_vars\": ['clinical.T.Stage', 'Clinical.N.Stage'],  # list of columns to be used as predictors\n",
    "            \"baseline_hf\": True,  # Boolean value \n",
    "            \"binning\": True,  # Boolean value \n",
    "            \"bin_type\": \"Fixed\",  # \"Fixed\" or \"Quantile\"\n",
    "            \"differential_privacy\": True,  # Boolean value \n",
    "            \"privacy_target\": \"aggregates\",  # \"predictors\" or \"aggregates\"\n",
    "            \"sensitivity\": 1,  # Numeric value\n",
    "            \"epsilon\": 0.3,  # Numeric value\n",
    "            \"organization_ids\": organization_ids, # list of organisations \n",
    "\n",
    "        }\n",
    "}"
   ],
   "outputs": [],
   "execution_count": null
  },
  {
   "cell_type": "markdown",
   "id": "cca89c9d-27ec-4a20-a5ba-ef58fd168485",
   "metadata": {},
   "source": [
    "### Execute the task\n",
    "Now we can execute the task itself. Mind the `image` parameter, which refers to a Docker image which will be pulled (=downloaded) at every data station (=node) and executed. The previously defined input is passed in the `input_` parameter."
   ]
  },
  {
   "cell_type": "code",
   "id": "cbf6ea4f-6e54-4804-a040-7fb2a8216e1d",
   "metadata": {},
   "source": [
    "task = client.task.create(\n",
    "    collaboration=collaboration_id, \n",
    "    organizations=[client.organization.get()['id']],  # List your organization IDs\n",
    "    name='CoxPH - with PETs',  # Give your task a specific name\n",
    "    image='ghcr.io/maastrichtu-cds/v6-coxph:2.0.0',  # Specify the desired algorithm Docker image version\n",
    "    description='CoxPH with PETs and baseline hazard calculation',  # Describe the task\n",
    "    databases=[{'label': 'default'}],  # Use your database label\n",
    "    input_=input_\n",
    ")"
   ],
   "outputs": [],
   "execution_count": null
  },
  {
   "cell_type": "markdown",
   "id": "7319387d-770f-4a04-b089-8a90b9ed6830",
   "metadata": {},
   "source": [
    "## Download and interpret results\n",
    "In the following steps, we will download the results, and interpret them both in numerical and visual form. The following cell will download the results."
   ]
  },
  {
   "metadata": {},
   "cell_type": "code",
   "source": [
    "# Retrieve the results\n",
    "# import json\n",
    "result = client.wait_for_results(task['id'])\n",
    "# Get the results\n",
    "result_info = client.result.from_task(task_id=task['id'])\n",
    "print(f'Results: {result_info}')\n",
    "for data in result_info['data']:\n",
    "    print(data['result'])"
   ],
   "id": "4bdd1a01-ee6c-4c43-95e1-0a6777f5f6dd",
   "outputs": [],
   "execution_count": null
  },
  {
   "cell_type": "markdown",
   "id": "01f4eb5f-a1c4-433c-93bf-5b3c3815763b",
   "metadata": {},
   "source": ""
  }
 ],
 "metadata": {
  "kernelspec": {
   "display_name": "Python 3 (ipykernel)",
   "language": "python",
   "name": "python3"
  },
  "language_info": {
   "codemirror_mode": {
    "name": "ipython",
    "version": 3
   },
   "file_extension": ".py",
   "mimetype": "text/x-python",
   "name": "python",
   "nbconvert_exporter": "python",
   "pygments_lexer": "ipython3",
   "version": "3.10.12"
  }
 },
 "nbformat": 4,
 "nbformat_minor": 5
}
